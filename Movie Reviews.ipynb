{
 "cells": [
  {
   "cell_type": "markdown",
   "metadata": {},
   "source": [
    "# IMPORTING THE LIBRARIES"
   ]
  },
  {
   "cell_type": "code",
   "execution_count": 1,
   "metadata": {},
   "outputs": [],
   "source": [
    "import pandas as pd\n",
    "from sklearn.model_selection import train_test_split\n",
    "from sklearn.pipeline import Pipeline\n",
    "from sklearn.feature_extraction.text import TfidfVectorizer\n",
    "from sklearn.svm import LinearSVC\n",
    "from sklearn.metrics import confusion_matrix\n",
    "from sklearn import metrics"
   ]
  },
  {
   "cell_type": "markdown",
   "metadata": {},
   "source": [
    "# READING THE DATA FROM tsv "
   ]
  },
  {
   "cell_type": "code",
   "execution_count": 2,
   "metadata": {},
   "outputs": [],
   "source": [
    "data = pd.read_csv(r\"C:/Users/G.VENKATARAMANA/NLP/UPDATED_NLP_COURSE/TextFiles/moviereviews.tsv\",sep = '\\t')"
   ]
  },
  {
   "cell_type": "markdown",
   "metadata": {},
   "source": [
    "# GLIMPSE OF THE DATA"
   ]
  },
  {
   "cell_type": "code",
   "execution_count": 3,
   "metadata": {},
   "outputs": [
    {
     "data": {
      "text/html": [
       "<div>\n",
       "<style scoped>\n",
       "    .dataframe tbody tr th:only-of-type {\n",
       "        vertical-align: middle;\n",
       "    }\n",
       "\n",
       "    .dataframe tbody tr th {\n",
       "        vertical-align: top;\n",
       "    }\n",
       "\n",
       "    .dataframe thead th {\n",
       "        text-align: right;\n",
       "    }\n",
       "</style>\n",
       "<table border=\"1\" class=\"dataframe\">\n",
       "  <thead>\n",
       "    <tr style=\"text-align: right;\">\n",
       "      <th></th>\n",
       "      <th>label</th>\n",
       "      <th>review</th>\n",
       "    </tr>\n",
       "  </thead>\n",
       "  <tbody>\n",
       "    <tr>\n",
       "      <th>0</th>\n",
       "      <td>neg</td>\n",
       "      <td>how do films like mouse hunt get into theatres...</td>\n",
       "    </tr>\n",
       "    <tr>\n",
       "      <th>1</th>\n",
       "      <td>neg</td>\n",
       "      <td>some talented actresses are blessed with a dem...</td>\n",
       "    </tr>\n",
       "    <tr>\n",
       "      <th>2</th>\n",
       "      <td>pos</td>\n",
       "      <td>this has been an extraordinary year for austra...</td>\n",
       "    </tr>\n",
       "    <tr>\n",
       "      <th>3</th>\n",
       "      <td>pos</td>\n",
       "      <td>according to hollywood movies made in last few...</td>\n",
       "    </tr>\n",
       "    <tr>\n",
       "      <th>4</th>\n",
       "      <td>neg</td>\n",
       "      <td>my first press screening of 1998 and already i...</td>\n",
       "    </tr>\n",
       "  </tbody>\n",
       "</table>\n",
       "</div>"
      ],
      "text/plain": [
       "  label                                             review\n",
       "0   neg  how do films like mouse hunt get into theatres...\n",
       "1   neg  some talented actresses are blessed with a dem...\n",
       "2   pos  this has been an extraordinary year for austra...\n",
       "3   pos  according to hollywood movies made in last few...\n",
       "4   neg  my first press screening of 1998 and already i..."
      ]
     },
     "execution_count": 3,
     "metadata": {},
     "output_type": "execute_result"
    }
   ],
   "source": [
    "data.head()"
   ]
  },
  {
   "cell_type": "code",
   "execution_count": 4,
   "metadata": {},
   "outputs": [
    {
     "data": {
      "text/plain": [
       "(2000, 2)"
      ]
     },
     "execution_count": 4,
     "metadata": {},
     "output_type": "execute_result"
    }
   ],
   "source": [
    "data.shape"
   ]
  },
  {
   "cell_type": "markdown",
   "metadata": {},
   "source": [
    "# CHECKING FOR NULL VALUES "
   ]
  },
  {
   "cell_type": "code",
   "execution_count": 5,
   "metadata": {},
   "outputs": [
    {
     "data": {
      "text/plain": [
       "label     False\n",
       "review     True\n",
       "dtype: bool"
      ]
     },
     "execution_count": 5,
     "metadata": {},
     "output_type": "execute_result"
    }
   ],
   "source": [
    "data.isnull().any()"
   ]
  },
  {
   "cell_type": "markdown",
   "metadata": {},
   "source": [
    "# DROPPING THE ROWS WITH NULL VALUES"
   ]
  },
  {
   "cell_type": "code",
   "execution_count": 6,
   "metadata": {},
   "outputs": [],
   "source": [
    "data.dropna(inplace = True)"
   ]
  },
  {
   "cell_type": "code",
   "execution_count": 7,
   "metadata": {},
   "outputs": [
    {
     "data": {
      "text/plain": [
       "label     False\n",
       "review    False\n",
       "dtype: bool"
      ]
     },
     "execution_count": 7,
     "metadata": {},
     "output_type": "execute_result"
    }
   ],
   "source": [
    "data.isnull().any()"
   ]
  },
  {
   "cell_type": "markdown",
   "metadata": {},
   "source": [
    "# CHECKING FOR EMPTY SPACES IN THE REVIEW COLUMN"
   ]
  },
  {
   "cell_type": "markdown",
   "metadata": {},
   "source": [
    "Sometimes in text databases, the null values are replaced with empty spaces to ignore the column.\n",
    "\n",
    "These type of data can manipulate the model in wrong predictions.\n",
    "\n",
    "So, we are removing the empty values from the dataframe.\n",
    "\n",
    "Checking for the empty space with .isspace() method for review column and \n",
    "\n",
    "we are appending the index position of such column to blanks []  list."
   ]
  },
  {
   "cell_type": "code",
   "execution_count": 8,
   "metadata": {},
   "outputs": [],
   "source": [
    "blanks = []\n",
    "for i,lab,rev in data.itertuples():\n",
    "    if rev.isspace():\n",
    "        blanks.append(i)"
   ]
  },
  {
   "cell_type": "code",
   "execution_count": 9,
   "metadata": {},
   "outputs": [
    {
     "data": {
      "text/plain": [
       "[57,\n",
       " 71,\n",
       " 147,\n",
       " 151,\n",
       " 283,\n",
       " 307,\n",
       " 313,\n",
       " 323,\n",
       " 343,\n",
       " 351,\n",
       " 427,\n",
       " 501,\n",
       " 633,\n",
       " 675,\n",
       " 815,\n",
       " 851,\n",
       " 977,\n",
       " 1079,\n",
       " 1299,\n",
       " 1455,\n",
       " 1493,\n",
       " 1525,\n",
       " 1531,\n",
       " 1763,\n",
       " 1851,\n",
       " 1905,\n",
       " 1993]"
      ]
     },
     "execution_count": 9,
     "metadata": {},
     "output_type": "execute_result"
    }
   ],
   "source": [
    "blanks"
   ]
  },
  {
   "cell_type": "code",
   "execution_count": 10,
   "metadata": {},
   "outputs": [
    {
     "data": {
      "text/plain": [
       "'  '"
      ]
     },
     "execution_count": 10,
     "metadata": {},
     "output_type": "execute_result"
    }
   ],
   "source": [
    "data['review'][343]"
   ]
  },
  {
   "cell_type": "markdown",
   "metadata": {},
   "source": [
    "# DROPPING THE ROWS WITH EMPTY VALUES"
   ]
  },
  {
   "cell_type": "markdown",
   "metadata": {},
   "source": [
    "Just passing the index position of the empty spaces columns will drop them.\n",
    "\n",
    "inplace = True is for the permanent drop."
   ]
  },
  {
   "cell_type": "code",
   "execution_count": 11,
   "metadata": {},
   "outputs": [],
   "source": [
    "data.drop(blanks,inplace = True)"
   ]
  },
  {
   "cell_type": "code",
   "execution_count": 12,
   "metadata": {},
   "outputs": [
    {
     "data": {
      "text/plain": [
       "(1938, 2)"
      ]
     },
     "execution_count": 12,
     "metadata": {},
     "output_type": "execute_result"
    }
   ],
   "source": [
    "data.shape"
   ]
  },
  {
   "cell_type": "markdown",
   "metadata": {},
   "source": [
    "# DIVIDING THE VALUES INTO X AND Y"
   ]
  },
  {
   "cell_type": "code",
   "execution_count": 13,
   "metadata": {},
   "outputs": [
    {
     "data": {
      "text/plain": [
       "((1938,), (1938,))"
      ]
     },
     "execution_count": 13,
     "metadata": {},
     "output_type": "execute_result"
    }
   ],
   "source": [
    "x = data['review']\n",
    "y = data['label']\n",
    "\n",
    "x.shape,y.shape"
   ]
  },
  {
   "cell_type": "markdown",
   "metadata": {},
   "source": [
    "# SPLITTING THE VALUES INTO TRAINING DATA AND TESTING DATA"
   ]
  },
  {
   "cell_type": "code",
   "execution_count": 14,
   "metadata": {},
   "outputs": [],
   "source": [
    "x_train,x_test,y_train,y_test = train_test_split(x,y,test_size = 0.3,random_state = 117)"
   ]
  },
  {
   "cell_type": "code",
   "execution_count": 15,
   "metadata": {},
   "outputs": [
    {
     "data": {
      "text/plain": [
       "dtype('O')"
      ]
     },
     "execution_count": 15,
     "metadata": {},
     "output_type": "execute_result"
    }
   ],
   "source": [
    "x_train.shape,x_test.shape,y_train.shape,y_test.shape\n",
    "x_train.dtype"
   ]
  },
  {
   "cell_type": "markdown",
   "metadata": {},
   "source": [
    "# CREATING A PIPELINE OBJECT"
   ]
  },
  {
   "cell_type": "markdown",
   "metadata": {},
   "source": [
    "The pipeline object will help in reducing outr task in applying the vectorizer and model twice for training and test.\n",
    "\n",
    "By just calling the pipeline object, both the tasks are done.\n",
    "\n",
    "They are vectorized and fitted into the model.\n",
    "\n",
    "Even for prediction also, If we don't approach this method then we have to vectorize the testing data again and predict the values.\n",
    "\n",
    "\n",
    "pipeline object makes ease of access."
   ]
  },
  {
   "cell_type": "code",
   "execution_count": 16,
   "metadata": {},
   "outputs": [],
   "source": [
    "clf_mod = Pipeline([      ('tfidf',TfidfVectorizer())   ,    ('mod',LinearSVC())     ])"
   ]
  },
  {
   "cell_type": "markdown",
   "metadata": {},
   "source": [
    "# FITTING THE MODEL"
   ]
  },
  {
   "cell_type": "code",
   "execution_count": 17,
   "metadata": {},
   "outputs": [
    {
     "data": {
      "text/plain": [
       "Pipeline(memory=None,\n",
       "         steps=[('tfidf',\n",
       "                 TfidfVectorizer(analyzer='word', binary=False,\n",
       "                                 decode_error='strict',\n",
       "                                 dtype=<class 'numpy.float64'>,\n",
       "                                 encoding='utf-8', input='content',\n",
       "                                 lowercase=True, max_df=1.0, max_features=None,\n",
       "                                 min_df=1, ngram_range=(1, 1), norm='l2',\n",
       "                                 preprocessor=None, smooth_idf=True,\n",
       "                                 stop_words=None, strip_accents=None,\n",
       "                                 sublinear_tf=False,\n",
       "                                 token_pattern='(?u)\\\\b\\\\w\\\\w+\\\\b',\n",
       "                                 tokenizer=None, use_idf=True,\n",
       "                                 vocabulary=None)),\n",
       "                ('mod',\n",
       "                 LinearSVC(C=1.0, class_weight=None, dual=True,\n",
       "                           fit_intercept=True, intercept_scaling=1,\n",
       "                           loss='squared_hinge', max_iter=1000,\n",
       "                           multi_class='ovr', penalty='l2', random_state=None,\n",
       "                           tol=0.0001, verbose=0))],\n",
       "         verbose=False)"
      ]
     },
     "execution_count": 17,
     "metadata": {},
     "output_type": "execute_result"
    }
   ],
   "source": [
    "clf_mod.fit(x_train,y_train)"
   ]
  },
  {
   "cell_type": "markdown",
   "metadata": {},
   "source": [
    "# PREDICTING THE MODEL"
   ]
  },
  {
   "cell_type": "code",
   "execution_count": 39,
   "metadata": {},
   "outputs": [],
   "source": [
    "pred =clf_mod.predict(x_test)"
   ]
  },
  {
   "cell_type": "markdown",
   "metadata": {},
   "source": [
    "# PRINTING THE CONFUSION MATRIX"
   ]
  },
  {
   "cell_type": "code",
   "execution_count": 40,
   "metadata": {},
   "outputs": [
    {
     "name": "stdout",
     "output_type": "stream",
     "text": [
      "[[243  57]\n",
      " [ 33 249]]\n"
     ]
    }
   ],
   "source": [
    "print(confusion_matrix(y_test,pred))"
   ]
  },
  {
   "cell_type": "markdown",
   "metadata": {},
   "source": [
    "# CHECKING FOR THE ACCURACY OF THE MODEL"
   ]
  },
  {
   "cell_type": "code",
   "execution_count": 41,
   "metadata": {},
   "outputs": [
    {
     "name": "stdout",
     "output_type": "stream",
     "text": [
      "Accuracy of the model is :0.845360824742268\n"
     ]
    }
   ],
   "source": [
    "print(f'Accuracy of the model is :{metrics.accuracy_score(pred,y_test)}')"
   ]
  },
  {
   "cell_type": "code",
   "execution_count": 42,
   "metadata": {},
   "outputs": [
    {
     "name": "stdout",
     "output_type": "stream",
     "text": [
      "              precision    recall  f1-score   support\n",
      "\n",
      "         neg       0.81      0.88      0.84       276\n",
      "         pos       0.88      0.81      0.85       306\n",
      "\n",
      "    accuracy                           0.85       582\n",
      "   macro avg       0.85      0.85      0.85       582\n",
      "weighted avg       0.85      0.85      0.85       582\n",
      "\n"
     ]
    }
   ],
   "source": [
    "print(f'{metrics.classification_report(pred,y_test)}')"
   ]
  },
  {
   "cell_type": "markdown",
   "metadata": {},
   "source": [
    "# CREATING A DATAFRAME OBJECT WITH SAMPLE OF REVIEWS FROM THE WEB"
   ]
  },
  {
   "cell_type": "markdown",
   "metadata": {},
   "source": [
    "Took some movie reviews from the google to test for real life data.\n",
    "\n",
    "It predicted as follows."
   ]
  },
  {
   "cell_type": "code",
   "execution_count": 43,
   "metadata": {},
   "outputs": [
    {
     "data": {
      "text/html": [
       "<div>\n",
       "<style scoped>\n",
       "    .dataframe tbody tr th:only-of-type {\n",
       "        vertical-align: middle;\n",
       "    }\n",
       "\n",
       "    .dataframe tbody tr th {\n",
       "        vertical-align: top;\n",
       "    }\n",
       "\n",
       "    .dataframe thead th {\n",
       "        text-align: right;\n",
       "    }\n",
       "</style>\n",
       "<table border=\"1\" class=\"dataframe\">\n",
       "  <thead>\n",
       "    <tr style=\"text-align: right;\">\n",
       "      <th></th>\n",
       "      <th>review</th>\n",
       "    </tr>\n",
       "  </thead>\n",
       "  <tbody>\n",
       "    <tr>\n",
       "      <th>0</th>\n",
       "      <td>Like many writers, I tend to subconsciously di...</td>\n",
       "    </tr>\n",
       "    <tr>\n",
       "      <th>1</th>\n",
       "      <td>I don’t know if it’s my best work, but a landm...</td>\n",
       "    </tr>\n",
       "    <tr>\n",
       "      <th>2</th>\n",
       "      <td>No way would I dare to recommend any pieces of...</td>\n",
       "    </tr>\n",
       "    <tr>\n",
       "      <th>3</th>\n",
       "      <td>’ll always love this classic, not so much for ...</td>\n",
       "    </tr>\n",
       "    <tr>\n",
       "      <th>4</th>\n",
       "      <td>worst movie of all time in tollywood,did'nt ex...</td>\n",
       "    </tr>\n",
       "    <tr>\n",
       "      <th>5</th>\n",
       "      <td>Very good film</td>\n",
       "    </tr>\n",
       "  </tbody>\n",
       "</table>\n",
       "</div>"
      ],
      "text/plain": [
       "                                              review\n",
       "0  Like many writers, I tend to subconsciously di...\n",
       "1  I don’t know if it’s my best work, but a landm...\n",
       "2  No way would I dare to recommend any pieces of...\n",
       "3  ’ll always love this classic, not so much for ...\n",
       "4  worst movie of all time in tollywood,did'nt ex...\n",
       "5                                     Very good film"
      ]
     },
     "execution_count": 43,
     "metadata": {},
     "output_type": "execute_result"
    }
   ],
   "source": [
    "col = ['review']\n",
    "rev = [\n",
    "    \n",
    "    #One \n",
    "    [\"\"\"Like many writers, I tend to subconsciously disown anything I’ve written more than a few months ago, so I read this question, in practice, as what’s my favorite thing I’ve written recently. On that front, I’d say that the review of “Phantom Thread” that I wrote over at my blog comes the closest to what I most desire to do as a critic. I try to think about a movie from every front: how the experience is the result of each aspect, in unique quantities and qualities, working together. It’s not just that the acting is compelling or the score is enveloping, it’s that each aspect is so tightly wound that it’s almost indistinguishable from within itself. A movie is not an algebra problem. You can’t just plug in a single value and have everything fall into place.\n",
    "\n",
    "“Phantom Thread” is Paul Thomas Anderson’s dreamy cinematography. It is Jonny Greenwood’s impeccably seductive, baroque music. It is Vicky Krieps’s ability to perfectly shatter our preconceptions at every single turn as we realize that Alma is the movie’s actual main character. We often talk about how good films would be worse-off if some part of it were in any way different. In the case of “Phantom Thread,” you flat-out can’t imagine how it would even exist if these things were changed. When so many hot take thinkpieces try to explain away every ending or take a hammer to delicate illusions, it was a pleasure to try and understand how a movie like this one operates on all fronts to maintain an ongoing sense of mystique.\"\"\"],\n",
    "       \n",
    "       \n",
    "       \n",
    "       \n",
    "       #Two\n",
    "       [\"\"\"I don’t know if it’s my best work, but a landmark in my life as a critic was surely a review of Chaplin’s “The Circus,” in time for the release of its restoration in 2010. I cherish this piece, written for Slant Magazine, for a number of reasons. For one, I felt deeply honored to shed more light on probably the least known and least respected of Chaplin’s major features, because it’s a film that demonstrates such technical virtuosity it dispels once and for all any notion that his work is uncinematic. (Yes, but what about the rest of his filmography you ask? My response is that any quibbles about the immobility of Chaplin’s camera suggest an ardent belief that the best directing equals the most directing.) For another, I was happy this review appeared in Slant Magazine, a publication that helped me cut my critical teeth and has done the same for a number of other critics who’ve gone on to write or edit elsewhere. That Slant is now struggling to endure in this financially ferocious landscape for criticism is a shame – the reviews I wrote for them around 2009-10 helped me refine my voice even that much more than my concurrent experience at Entertainment Weekly, where I had my day job. And finally, this particular review will always mean a lot to me because it’s the first one I wrote that I saw posted in its entirety on the bulletin board at Film Forum. For me, there was no surer sign that “I’d made it”.\n",
    "\n",
    "\"\"\"],\n",
    "    \n",
    "    #Three\n",
    "[\"\"\"No way would I dare to recommend any pieces of my own, but I don’t mind mentioning a part of my work that I do with special enthusiasm. Criticism, I think, is more than the three A’s (advocacy, analysis, assessment); it’s prophetic, seeing the future of the art from the movies that are on hand. Yet many of the most forward-looking, possibility-expanding new films are in danger of passing unnoticed (or even being largely dismissed) due to their departure from familiar modes or norms, and it’s one of my gravest (though also most joyful) responsibilities to pay attention to movies that may be generally overlooked despite (or because of) their exceptional qualities. (For that matter, I live in fear of missing a movie that needs such attention.)\n",
    "\n",
    "But another aspect of that same enthusiasm is the discovery of the unrealized future of the past—of great movies made and seen (or hardly seen) in recent decades that weren’t properly discussed and justly acclaimed in their time.”. Since one of the critical weapons used against the best of the new is an ossified and nostalgic classicism, the reëvaluation of what’s canonical, the acknowledgment of unheralded masterworks—and of filmmakers whose careers have been cavalierly truncated by industry indifference—is indispensable to and inseparable from the thrilling recognition of the authentically new.\"\"\"],\n",
    "       \n",
    "       \n",
    "       #Four\n",
    "       [\"\"\"’ll always love this classic, not so much for its content, but for its position in film history:\n",
    "\n",
    "http://hollywoodandfine.com/the-...\n",
    "\n",
    "Though it may be difficult to verify, I believe this was the first negative review for The Dark Knight Rises to be published following the film’s release. What followed was a tirade of angry fans who, despite not having seen the film yet, sent the critics death threats for their opinions of the movie. The Dark Knight Rises incident remains entrenched in my mind as an amateur movie reviewer— an example of just how willfully ignorant, narrow-minded, shallow, undemanding, and uncritical audiences today are. The review, and reviews like it, contributed greatly to my slow realization that superhero movies are absolute garbage.\n",
    "\n",
    "In the category of reviews that received unwarranted blowback from stupid people, I’d also include this one: 'Ghostbusters' reboot a horrifying mess\n",
    "\n",
    "And then there’s always the wonderful RedLetterMedia, the only YouTube critics worth watching. Their review of Man of Steel brings warmth to my heart.\n",
    "\n",
    "\"\"\"],\n",
    "       \n",
    "        #Five\n",
    "       \n",
    "       [\"worst movie of all time in tollywood,did'nt expect such performance from the star. Even the budget was high, no good content from the film.\"],\n",
    "    \n",
    "    #Six\n",
    "    \n",
    "    [\"Very good film\"]]\n",
    "data2 = pd.DataFrame(rev,columns = col)\n",
    "data2"
   ]
  },
  {
   "cell_type": "markdown",
   "metadata": {},
   "source": [
    "# PREDICTING THEM WITH THE TRAINED MODEL"
   ]
  },
  {
   "cell_type": "code",
   "execution_count": 44,
   "metadata": {},
   "outputs": [
    {
     "name": "stdout",
     "output_type": "stream",
     "text": [
      "['neg' 'pos' 'pos' 'pos' 'neg' 'pos']\n"
     ]
    }
   ],
   "source": [
    "print(clf_mod.predict(data2['review']))"
   ]
  }
 ],
 "metadata": {
  "kernelspec": {
   "display_name": "TENSORFLOW",
   "language": "python",
   "name": "sai"
  },
  "language_info": {
   "codemirror_mode": {
    "name": "ipython",
    "version": 3
   },
   "file_extension": ".py",
   "mimetype": "text/x-python",
   "name": "python",
   "nbconvert_exporter": "python",
   "pygments_lexer": "ipython3",
   "version": "3.7.6"
  }
 },
 "nbformat": 4,
 "nbformat_minor": 4
}
